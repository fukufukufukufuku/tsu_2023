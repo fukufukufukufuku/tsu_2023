{
 "cells": [
  {
   "cell_type": "markdown",
   "metadata": {},
   "source": [
    "**2023年度 東京成徳大学 特別講座 資料**<br>\n",
    "**東京工科大学コンピュータサイエンス学部**<br>\n",
    "**福西広晃**"
   ]
  },
  {
   "cell_type": "markdown",
   "metadata": {},
   "source": [
    "----"
   ]
  },
  {
   "cell_type": "markdown",
   "metadata": {},
   "source": [
    "# 特別講習の内容\n",
    "\n",
    "## 第01回 Python基礎1（計算機能の実装）\n",
    "\n",
    "## 第02回 Python基礎2（計算機能の実装）\n",
    "\n",
    "## 第03回 Pythonによるテーブルデータの操作と統計計算\n",
    "\n",
    "## 第04回 Pythonによるデータ可視化\n",
    "\n",
    "## 第05回 Pythonによる実践的なデータ分析"
   ]
  },
  {
   "cell_type": "markdown",
   "metadata": {},
   "source": [
    "----"
   ]
  },
  {
   "cell_type": "markdown",
   "metadata": {},
   "source": [
    "# なんのためにプログラミングを行うのか\n",
    "<span style=\"font-size: 150%; color: red;\">業務（作業）の自動化　→　業務（作業）効率化</span>"
   ]
  },
  {
   "cell_type": "markdown",
   "metadata": {},
   "source": [
    "----"
   ]
  },
  {
   "cell_type": "markdown",
   "metadata": {},
   "source": [
    "# プログラミング言語Pythonについて\n",
    "- 本講義では、プログラミング言語として`Python`を用いる\n",
    "- `Python`は近年最も人気のあるプログラミング言語の１つ\n",
    "\n",
    "## Pythonの特徴\n",
    "- 文法がシンプル\n",
    "- 無料で利用できる（オープンソース）\n",
    "- 豊富な標準ライブラリと外部のパッケージ（便利アプリをイメージしてください）\n",
    "- コンパイル不要（スクリプト言語）\n",
    "  - コンパイルとは、プログラミング言語で書かれた文字列（ソースコード）を、コンピュータ上で実行可能な形式（オブジェクトコード）に変換すること\n",
    "- 汎用性が高い（以下に紹介）\n",
    "\n",
    "## Pythonは何に使われているか\n",
    "- `Webアプリ開発`\n",
    "  - Instagram, YoutubeなどはPythonで書かれている\n",
    "  - Django, Flaskなどのフレームワークを用いれば、効率よく開発できる(フレームワークとは、アプリケーションを開発する際によく使われる機能がまとまったソフトウェアのこと)\n",
    "- `機械学習プログラミング(AI開発)`\n",
    "  - AI分野において、Pythonはデファクトスタンダードとなっている\n",
    "  - Scilit-learn, TensorFlow, PyTorch等のライブラリを用いれば、予測モデルが生成できる\n",
    "- `データサイエンス`\n",
    "  - Pandas, Matplotlib, Seabornn等のライブラリを用いれば、統計解析やデータの可視化ができる\n",
    "- `Webスクレイピング（Webサイトからのデータ取得）`\n",
    "  - htmlの知識があれば、BeautifulSoup, Seleniumのライブラリを用いてWebサイトから効率的にデータを取得できる\n",
    "- `Excelの自動処理`\n",
    "- `ゲーム開発`\n",
    "- `株やFXの自動売買`\n",
    "- `ブロックチェーン開発（暗号化技術）`\n",
    "\n",
    "\n",
    "## Pythonの開発環境\n",
    "- `オンライン(クラウドサービス)`<br>\n",
    "  インターネットに繋がるブラウザがあればいつでもどこでも利用できる（スマートフォンでもOK）\n",
    "  - **Google Colaboratory**：グーグル社が提供、対話型実行環境が利用できる、面倒な環境構築が不要で初学者の学習環境として最もメジャーな環境\n",
    "  - AWS Cloud9：Amazon社が提供\n",
    "<br><br>  \n",
    "- `オフライン(ローカルPCで開発)`<br>\n",
    "  ローカルPCにインストールして利用するため利用場所が制限される\n",
    "  - **Anaconda**: Anaconda社が提供、Jupyter NotebookやJupyter Labの対話型実行環境が利用できる、分析用途で広く利用されている環境、\n",
    "  - Visual Studio Code: マイクロソフト社が提供（Webアプリの開発で広く利用されている環境）"
   ]
  },
  {
   "cell_type": "markdown",
   "metadata": {},
   "source": [
    "----"
   ]
  },
  {
   "cell_type": "markdown",
   "metadata": {},
   "source": [
    "# Google Colaboratoryの使い方\n",
    "- `Google Chrome`や`Microsoft Edge`などのブラウザを使ってプログラミングを行う\n",
    "- Jupyter Notebook（読み方は「ジュパイター・ノートブック」または「ジュピター・ノートブック」）がベースとなっており、1セルごとにプログラムを実行・確認することができる（対話型実行環境とも呼ばれる）\n",
    "- プログラムとその実行結果やその際のメモを簡単に作成でき、過去の作業内容の振り返りや、チームメンバーへ作業結果を共有する際に便利な他、授業や研修等の利用に適している\n",
    "- 拡張機能（nbextensions）を導入すれば、利便性を向上できる"
   ]
  },
  {
   "cell_type": "code",
   "execution_count": null,
   "metadata": {},
   "outputs": [],
   "source": [
    "from IPython.display import Image\n",
    "Image('img/01_fig01.png')"
   ]
  },
  {
   "cell_type": "markdown",
   "metadata": {},
   "source": [
    "----"
   ]
  },
  {
   "cell_type": "markdown",
   "metadata": {},
   "source": [
    "<span style=\"font-size: 250%; color: black;\">Pythonの基礎</span>"
   ]
  },
  {
   "cell_type": "markdown",
   "metadata": {},
   "source": [
    "----"
   ]
  },
  {
   "cell_type": "markdown",
   "metadata": {},
   "source": [
    "# 数値や文字列の画面表示\n",
    "## print関数\n",
    "- 文字列や数値などを画面に出力する関数<br>\n",
    "`print(表示内容)`\n",
    "  - 文字列の表示：\"abc\"（ダブルクォーテーション）または'abc'（シングルクォーテーション）で括る\n",
    "  - 数値の表示：ダブルクォーテーションやシングルクォーテーションで括る必要なし\n",
    "  - `print関数`で表示される文字列や数値の最後に改行（改行コード）が入る"
   ]
  },
  {
   "cell_type": "markdown",
   "metadata": {},
   "source": [
    "**「Hello World」という文字列を表示**"
   ]
  },
  {
   "cell_type": "code",
   "execution_count": null,
   "metadata": {
    "code_folding": []
   },
   "outputs": [],
   "source": [
    "print(\"Hello World\")    # 文字列はダブルクォーテーションで括る"
   ]
  },
  {
   "cell_type": "markdown",
   "metadata": {},
   "source": [
    "**#はコメント（メモ書き）を表し、#以降の実行されない**"
   ]
  },
  {
   "cell_type": "markdown",
   "metadata": {},
   "source": [
    "**数値の表示**"
   ]
  },
  {
   "cell_type": "code",
   "execution_count": null,
   "metadata": {},
   "outputs": [],
   "source": [
    "print(10)\n",
    "print(5.5)"
   ]
  },
  {
   "cell_type": "markdown",
   "metadata": {},
   "source": [
    "## 複数の値のprint関数\n",
    "- 複数の値を表示する場合は`,`(カンマ)区切りで続けて記述できる\n",
    "- print関数では最後に改行（改行コード）が入る"
   ]
  },
  {
   "cell_type": "code",
   "execution_count": null,
   "metadata": {},
   "outputs": [],
   "source": [
    "print(10, \"円\")\n",
    "print(\"時給\",1000,\"円\")"
   ]
  },
  {
   "cell_type": "markdown",
   "metadata": {},
   "source": [
    "## 最後に改行コードで入れない場合\n",
    "- print(値, end=\"改行コードの代わりに用いる文字や記号\")\n",
    "- 複数のprint文が1行で表示される"
   ]
  },
  {
   "cell_type": "code",
   "execution_count": null,
   "metadata": {},
   "outputs": [],
   "source": [
    "print(10, end=\" \")\n",
    "print(5.5, end=\" \")\n",
    "print(\"ok\")"
   ]
  },
  {
   "cell_type": "markdown",
   "metadata": {},
   "source": [
    "## 練習"
   ]
  },
  {
   "cell_type": "markdown",
   "metadata": {},
   "source": [
    "(1) print関数を使って「I study Python.」と表示してみよう"
   ]
  },
  {
   "cell_type": "code",
   "execution_count": null,
   "metadata": {},
   "outputs": [],
   "source": [
    "\n"
   ]
  },
  {
   "cell_type": "markdown",
   "metadata": {},
   "source": [
    "(2) print関数を2回使って「1111,9999」と表示してみよう。改行コードの代わりに`,`(カンマ)を付けることとする"
   ]
  },
  {
   "cell_type": "code",
   "execution_count": null,
   "metadata": {},
   "outputs": [],
   "source": [
    "\n"
   ]
  },
  {
   "cell_type": "markdown",
   "metadata": {},
   "source": [
    "解答例"
   ]
  },
  {
   "cell_type": "code",
   "execution_count": null,
   "metadata": {},
   "outputs": [],
   "source": [
    "#(1) \n",
    "print(\"I study Python.\")"
   ]
  },
  {
   "cell_type": "code",
   "execution_count": null,
   "metadata": {},
   "outputs": [],
   "source": [
    "#(2)\n",
    "print(1111, end=',')\n",
    "print(9999)"
   ]
  },
  {
   "cell_type": "markdown",
   "metadata": {},
   "source": [
    "----"
   ]
  },
  {
   "attachments": {
    "image-2.png": {
     "image/png": "[encoded data removed]"
    }
   },
   "cell_type": "markdown",
   "metadata": {},
   "source": [
    "# 変数と型\n",
    "## 変数とは\n",
    "- 変数とは箱のように値が出し入れできるもの\n",
    "- 変数には一度に`1つ`の値だけを入れることができる\n",
    "- 変数に出し入れする値とは`数値`や`文字列`など\n",
    "- 変数に値を入れることを`代入`という（特に、初めて値を入れる場合は`初期化`という）\n",
    "- 変数の値や文字列を何度でも入れ替えることができる（入れ替えの際、古い値は消える）\n",
    "<br><br>\n",
    "- 値の性質によって`データ型`という分類があり、`データ型`に依って計算機能は異なる\n",
    "  - 特に、`整数`、`浮動小数点数（小数）` 、`文字`を扱う型は`基本データ型`と呼ばれる\n",
    "  - 代入される値の種類によって変数には型が設定される\n",
    "    - 整数: `int型` (例: 3, 10, 5)\n",
    "    - 浮動小数点数（小数）: `float型` (例: 3.14)\n",
    "    - 文字: `str型` (例: ABC)\n",
    "    - Pythonは、変数に対して型の記述は不要（他言語では型を宣言して記述する必要があるものもある）。ただし、変数の型を意識する必要はある。例えば、「3」が整数か文字なのかで、四則演算できるかできないかに影響する。\n",
    "\n",
    "![image-2.png](attachment:image-2.png)\n",
    "<br><br>\n",
    "- 変数は以下の例外を除いて自由に名前を付けることができる\n",
    "  - 変数名の一文字目には数字は使えない\n",
    "  - +, -, /, %, (, ), # のような演算子や記号は使えない\n",
    "  - Pythonで予め用意されている予約語(and, as, breakなど)や、組み込みオブジェクト(while、if、sumなど)は使えない\n",
    "  - 変数名は単純なものよりも、変数がどのような意味を持つかを考えて付けるのが望ましい"
   ]
  },
  {
   "cell_type": "markdown",
   "metadata": {},
   "source": [
    "## 変数の初期化（変数に初めて値を入れる）\n",
    "- ファイルを閉じなければ、変数の値は以降のセルにも保持される"
   ]
  },
  {
   "cell_type": "code",
   "execution_count": null,
   "metadata": {},
   "outputs": [],
   "source": [
    "num1  = 123             # 整数（int型）\n",
    "num2  = 123.456         # 小数（float型）\n",
    "text  = \"Hello World!\"  # 文字列（str型）"
   ]
  },
  {
   "cell_type": "markdown",
   "metadata": {},
   "source": [
    "**プログラムの式は、左辺←右辺の操作を意味する。算数や数学の等式とは意味合いが異なることに注意。**"
   ]
  },
  {
   "cell_type": "markdown",
   "metadata": {},
   "source": [
    "## 変数の画面表示\n",
    "- 変数にどのような値が代入されているかは、`print関数`で表示できる"
   ]
  },
  {
   "cell_type": "markdown",
   "metadata": {},
   "source": [
    "**各変数の値を表示**"
   ]
  },
  {
   "cell_type": "code",
   "execution_count": null,
   "metadata": {},
   "outputs": [],
   "source": [
    "print(num1)\n",
    "print(num2)\n",
    "print(text)"
   ]
  },
  {
   "cell_type": "markdown",
   "metadata": {},
   "source": [
    "**print関数ではコンマで区切って変数を並べることもできる**<br>\n",
    "表示はスペース区切り"
   ]
  },
  {
   "cell_type": "code",
   "execution_count": null,
   "metadata": {},
   "outputs": [],
   "source": [
    "print(num1, num2, text)"
   ]
  },
  {
   "cell_type": "markdown",
   "metadata": {},
   "source": [
    "## 変数の値を変更"
   ]
  },
  {
   "cell_type": "code",
   "execution_count": null,
   "metadata": {},
   "outputs": [],
   "source": [
    "num1  = 987            # 整数型（int）\n",
    "num2  = 567.23         # 浮動小数点型（float）\n",
    "text  = \"See you.\"     # 文字列型（str）\n",
    "\n",
    "print(\"num1:\", num1)\n",
    "print(\"num2:\", num2)\n",
    "print(\"text:\", text)"
   ]
  },
  {
   "cell_type": "markdown",
   "metadata": {},
   "source": [
    "## 練習"
   ]
  },
  {
   "cell_type": "markdown",
   "metadata": {},
   "source": [
    "(1) `num3`という名前の変数に「50」の整数を代入した後、print関数で`num3`を表示してみよう"
   ]
  },
  {
   "cell_type": "code",
   "execution_count": null,
   "metadata": {},
   "outputs": [],
   "source": [
    "\n"
   ]
  },
  {
   "cell_type": "markdown",
   "metadata": {},
   "source": [
    "(2) `text1`という名前の変数に「This is an apple.」の文字列を代入した後、print関数で`text1`を表示してみよう"
   ]
  },
  {
   "cell_type": "code",
   "execution_count": null,
   "metadata": {},
   "outputs": [],
   "source": [
    "\n"
   ]
  },
  {
   "cell_type": "markdown",
   "metadata": {},
   "source": [
    "----"
   ]
  },
  {
   "cell_type": "markdown",
   "metadata": {},
   "source": [
    "# 算術演算子\n",
    "プログラム上で演算を行うためには、算術演算子を用いる\n",
    "\n",
    "||||\n",
    "|:-:|:-:|:--|\n",
    "|算術演算子|\\+  | 足し算 |\n",
    "|          | -  | 引き算 |\n",
    "|          | *  | かける |\n",
    "|          | /  | 割る（小数） |\n",
    "|          | // | 割る（整数） |\n",
    "|          | %  | 余り |\n",
    "|          | ** | べき乗 |\n",
    "||||"
   ]
  },
  {
   "cell_type": "markdown",
   "metadata": {},
   "source": [
    "## 算術演算"
   ]
  },
  {
   "cell_type": "code",
   "execution_count": null,
   "metadata": {},
   "outputs": [],
   "source": [
    "# 足し算\n",
    "print(\"足し算\", 10 + 3)\n",
    "\n",
    "# 引き算\n",
    "print(\"引き算\", 10 - 3)\n",
    "\n",
    "# 掛け算\n",
    "print(\"掛け算\", 10 * 3)\n",
    "\n",
    "# 割り算\n",
    "print(\"割り算\", 10 / 3)\n",
    "\n",
    "# 割り算の商\n",
    "print(\"割り算の商\", 10 // 3)\n",
    "\n",
    "# 割り算の余り\n",
    "print(\"割り算の余り\", 10 % 3)\n",
    "\n",
    "# べき乗\n",
    "print(\"3乗\", 10 ** 3)"
   ]
  },
  {
   "cell_type": "markdown",
   "metadata": {},
   "source": [
    "## 変数を使った算術演算\n",
    "- 変数を使って演算式を書くと、変数の値を書き変えるだけで全ての演算結果が得られる"
   ]
  },
  {
   "cell_type": "code",
   "execution_count": null,
   "metadata": {},
   "outputs": [],
   "source": [
    "num1 = 10\n",
    "num2 = 3\n",
    "\n",
    "# 足し算\n",
    "print(\"足し算\", num1 + num2)\n",
    "\n",
    "# 引き算\n",
    "print(\"引き算\", num1 - num2)\n",
    "\n",
    "# 掛け算\n",
    "print(\"掛け算\", num1 * num2)\n",
    "\n",
    "# 割り算\n",
    "print(\"割り算\", num1 / num2)\n",
    "\n",
    "# 割り算の商\n",
    "print(\"割り算の商\", num1 // num2)\n",
    "\n",
    "# 割り算の余り\n",
    "print(\"割り算の余り\", num1 % num2)\n",
    "\n",
    "# べき乗\n",
    "print(\"3乗\", num1 ** num2)"
   ]
  },
  {
   "cell_type": "markdown",
   "metadata": {},
   "source": [
    "## 演算結果を新たな変数に代入して保持"
   ]
  },
  {
   "cell_type": "code",
   "execution_count": null,
   "metadata": {},
   "outputs": [],
   "source": [
    "num1 = 10\n",
    "num2 = 3\n",
    "\n",
    "# 足し算\n",
    "tasu = num1 + num2\n",
    "print(\"足し算\", tasu)\n",
    "\n",
    "# 引き算\n",
    "hiku = num1 - num2\n",
    "print(\"引き算\", hiku)\n",
    "\n",
    "# 掛け算\n",
    "kake = num1 * num2 \n",
    "print(\"掛け算\", kake)\n",
    "\n",
    "# 割り算\n",
    "waru = num1 / num2\n",
    "print(\"割り算\", waru)\n",
    "\n",
    "# 割り算の小\n",
    "shou = num1 // num2\n",
    "print(\"割り算の余り\", shou)\n",
    "\n",
    "# 割り算の余り\n",
    "amari = num1 % num2\n",
    "print(\"割り算の余り\", amari)\n",
    "\n",
    "# べき乗\n",
    "beki = num1 ** num2\n",
    "print(\"3乗\", beki)"
   ]
  },
  {
   "cell_type": "markdown",
   "metadata": {},
   "source": [
    "## 複数の変数の演算\n",
    "- 長方形の体積を計算するプログラム"
   ]
  },
  {
   "cell_type": "code",
   "execution_count": null,
   "metadata": {},
   "outputs": [],
   "source": [
    "edge1 = 10   # 辺1(cm)\n",
    "edge2 = 20   # 辺2(cm)\n",
    "edge3 = 30   # 高さ(cm)\n",
    "\n",
    "vol = edge1*edge2*edge3 # 体積の計算\n",
    "\n",
    "print(\"体積：\", vol, \"cm3\")"
   ]
  },
  {
   "cell_type": "markdown",
   "metadata": {},
   "source": [
    "## 練習"
   ]
  },
  {
   "cell_type": "markdown",
   "metadata": {},
   "source": [
    "(1) 変数num3に`13`、変数num4に`2`を代入した後、２つの変数の割り算の余りを計算し、表示してみよう。"
   ]
  },
  {
   "cell_type": "code",
   "execution_count": null,
   "metadata": {},
   "outputs": [],
   "source": [
    "\n"
   ]
  },
  {
   "cell_type": "markdown",
   "metadata": {},
   "source": [
    "(2) 税込み価格を計算するプログラムを作ってみよう。税抜き価格を表す変数を`price`、税率を表す変数を`tax`、税込み価格を表す変数を`taxprice`とする。税抜き価格が1000円、税率を10%としたときの税込み価格を計算し、表示してみよう。"
   ]
  },
  {
   "cell_type": "code",
   "execution_count": null,
   "metadata": {},
   "outputs": [],
   "source": [
    "\n"
   ]
  },
  {
   "cell_type": "markdown",
   "metadata": {},
   "source": [
    "(3) 三角形の面積を計算するプログラムを作成する。底辺を表す変数を`base`、高さを表す変数を`hight`、面積を表す変数を`area`とする。底辺に`13`cm、高さに`4`cmを代入した場合の面積を計算し、表示してみよう。"
   ]
  },
  {
   "cell_type": "code",
   "execution_count": null,
   "metadata": {},
   "outputs": [],
   "source": [
    "\n"
   ]
  },
  {
   "cell_type": "markdown",
   "metadata": {},
   "source": [
    "(4) 球の体積を計算するプログラムを作成する。半径を表す変数を`r`、体積を表す変数を`volume`とする。半径が`7.5`cmの場合の球の体積を計算し、表示してみよう。円周率は3.14とする。"
   ]
  },
  {
   "cell_type": "code",
   "execution_count": null,
   "metadata": {},
   "outputs": [],
   "source": [
    "\n"
   ]
  },
  {
   "cell_type": "markdown",
   "metadata": {},
   "source": [
    "## 変数の値をx増やす\n",
    "- プログラムの特有の記述方法がある\n",
    "- プログラムの式は、左辺←右辺の操作を意味する。算数や数学の等式とは意味合いが異なることに注意。"
   ]
  },
  {
   "cell_type": "markdown",
   "metadata": {},
   "source": [
    "**パターン1**"
   ]
  },
  {
   "cell_type": "code",
   "execution_count": null,
   "metadata": {
    "scrolled": true
   },
   "outputs": [],
   "source": [
    "num1 = 10\n",
    "\n",
    "num1 = num1 + 1\n",
    "\n",
    "print(num1)"
   ]
  },
  {
   "cell_type": "markdown",
   "metadata": {},
   "source": [
    "**パターン2**"
   ]
  },
  {
   "cell_type": "code",
   "execution_count": null,
   "metadata": {
    "scrolled": true
   },
   "outputs": [],
   "source": [
    "num1 = 10\n",
    "\n",
    "num1 += 1  # num1 = num1 + 1と同じ意味\n",
    "\n",
    "print(num1)"
   ]
  },
  {
   "cell_type": "markdown",
   "metadata": {},
   "source": [
    "## 練習"
   ]
  },
  {
   "cell_type": "markdown",
   "metadata": {},
   "source": [
    "(1) 変数`a`に初期値を5とする。変数`a`に10を足した結果を表示してみよう"
   ]
  },
  {
   "cell_type": "code",
   "execution_count": null,
   "metadata": {},
   "outputs": [],
   "source": [
    "\n"
   ]
  },
  {
   "cell_type": "markdown",
   "metadata": {},
   "source": [
    "\n"
   ]
  },
  {
   "cell_type": "markdown",
   "metadata": {},
   "source": [
    "(2) 変数`b`に初期値を100とする。変数`b`に50を引いた結果を表示してみよう"
   ]
  },
  {
   "cell_type": "code",
   "execution_count": null,
   "metadata": {},
   "outputs": [],
   "source": [
    "\n"
   ]
  },
  {
   "cell_type": "markdown",
   "metadata": {},
   "source": [
    "## 文字列の足し算\n",
    "- 文字列同士を足し算すると結合される"
   ]
  },
  {
   "cell_type": "code",
   "execution_count": null,
   "metadata": {},
   "outputs": [],
   "source": [
    "text1 = 'Hello'\n",
    "text2 = 'World'\n",
    "print(text1 + text2)"
   ]
  },
  {
   "cell_type": "markdown",
   "metadata": {},
   "source": [
    "## 練習"
   ]
  },
  {
   "cell_type": "markdown",
   "metadata": {},
   "source": [
    "(1) 変数`name1`に自分の苗字、変数`name2`に自分の名前を代入するものとする。`name1`と`name2`の間に１つの空白を入れて結合した結果を変数`fullname`に代入し、表示してみよう。"
   ]
  },
  {
   "cell_type": "code",
   "execution_count": null,
   "metadata": {},
   "outputs": [],
   "source": [
    "\n"
   ]
  },
  {
   "cell_type": "markdown",
   "metadata": {},
   "source": [
    "----"
   ]
  }
 ],
 "metadata": {
  "colab": {
   "authorship_tag": "ABX9TyPfPXRft5qzFwJBbz9MFb/L",
   "collapsed_sections": [],
   "name": "Python_Introduction_Answer.ipynb",
   "provenance": []
  },
  "kernelspec": {
   "display_name": "Python 3 (ipykernel)",
   "language": "python",
   "name": "python3"
  },
  "language_info": {
   "codemirror_mode": {
    "name": "ipython",
    "version": 3
   },
   "file_extension": ".py",
   "mimetype": "text/x-python",
   "name": "python",
   "nbconvert_exporter": "python",
   "pygments_lexer": "ipython3",
   "version": "3.9.7"
  },
  "toc": {
   "base_numbering": 1,
   "nav_menu": {},
   "number_sections": true,
   "sideBar": true,
   "skip_h1_title": false,
   "title_cell": "Table of Contents",
   "title_sidebar": "Contents",
   "toc_cell": false,
   "toc_position": {},
   "toc_section_display": true,
   "toc_window_display": true
  },
  "varInspector": {
   "cols": {
    "lenName": 16,
    "lenType": 16,
    "lenVar": 40
   },
   "kernels_config": {
    "python": {
     "delete_cmd_postfix": "",
     "delete_cmd_prefix": "del ",
     "library": "var_list.py",
     "varRefreshCmd": "print(var_dic_list())"
    },
    "r": {
     "delete_cmd_postfix": ") ",
     "delete_cmd_prefix": "rm(",
     "library": "var_list.r",
     "varRefreshCmd": "cat(var_dic_list()) "
    }
   },
   "types_to_exclude": [
    "module",
    "function",
    "builtin_function_or_method",
    "instance",
    "_Feature"
   ],
   "window_display": false
  }
 },
 "nbformat": 4,
 "nbformat_minor": 1
}
